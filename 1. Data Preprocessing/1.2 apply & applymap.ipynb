{
 "cells": [
  {
   "cell_type": "code",
   "execution_count": 1,
   "metadata": {},
   "outputs": [],
   "source": [
    "import pandas as pd  \n",
    "import numpy as np  \n",
    "import time \n",
    "import random \n",
    "import datetime"
   ]
  },
  {
   "cell_type": "code",
   "execution_count": null,
   "metadata": {},
   "outputs": [],
   "source": [
    "df=pd.DataFrame({\n",
    "    'ID':random.sample(np.arange(100,999),10),\n",
    "    'label':[random.randint([0,1]) for i in np.arange(10)]\n",
    "})"
   ]
  },
  {
   "cell_type": "code",
   "execution_count": 6,
   "metadata": {},
   "outputs": [
    {
     "data": {
      "text/plain": [
       "[510, 962, 659, 508, 284, 920, 928, 869, 243, 804]"
      ]
     },
     "execution_count": 6,
     "metadata": {},
     "output_type": "execute_result"
    }
   ],
   "source": [
    "random.sample(range(100,999),10)"
   ]
  },
  {
   "cell_type": "code",
   "execution_count": 9,
   "metadata": {},
   "outputs": [
    {
     "name": "stdout",
     "output_type": "stream",
     "text": [
      "range(0, 10)\n",
      "[0 1 2 3 4 5 6 7 8 9]\n"
     ]
    }
   ],
   "source": [
    "print(range(0,10))\n",
    "\n",
    "range_list=[]\n",
    "for i in range(0,10):\n",
    "    print()\n",
    "print(np.arange(10))"
   ]
  },
  {
   "cell_type": "code",
   "execution_count": 5,
   "metadata": {},
   "outputs": [
    {
     "name": "stdout",
     "output_type": "stream",
     "text": [
      "\u001b[1;31mSignature:\u001b[0m \u001b[0mrandom\u001b[0m\u001b[1;33m.\u001b[0m\u001b[0msample\u001b[0m\u001b[1;33m(\u001b[0m\u001b[0mpopulation\u001b[0m\u001b[1;33m,\u001b[0m \u001b[0mk\u001b[0m\u001b[1;33m)\u001b[0m\u001b[1;33m\u001b[0m\u001b[1;33m\u001b[0m\u001b[0m\n",
      "\u001b[1;31mDocstring:\u001b[0m\n",
      "Chooses k unique random elements from a population sequence or set.\n",
      "\n",
      "Returns a new list containing elements from the population while\n",
      "leaving the original population unchanged.  The resulting list is\n",
      "in selection order so that all sub-slices will also be valid random\n",
      "samples.  This allows raffle winners (the sample) to be partitioned\n",
      "into grand prize and second place winners (the subslices).\n",
      "\n",
      "Members of the population need not be hashable or unique.  If the\n",
      "population contains repeats, then each occurrence is a possible\n",
      "selection in the sample.\n",
      "\n",
      "To choose a sample in a range of integers, use range as an argument.\n",
      "This is especially fast and space efficient for sampling from a\n",
      "large population:   sample(range(10000000), 60)\n",
      "\u001b[1;31mFile:\u001b[0m      e:\\python\\anaconda3\\lib\\random.py\n",
      "\u001b[1;31mType:\u001b[0m      method\n"
     ]
    }
   ],
   "source": [
    "random.sample?"
   ]
  },
  {
   "cell_type": "code",
   "execution_count": null,
   "metadata": {},
   "outputs": [],
   "source": []
  }
 ],
 "metadata": {
  "kernelspec": {
   "display_name": "Python 3.8.3 ('base')",
   "language": "python",
   "name": "python3"
  },
  "language_info": {
   "codemirror_mode": {
    "name": "ipython",
    "version": 3
   },
   "file_extension": ".py",
   "mimetype": "text/x-python",
   "name": "python",
   "nbconvert_exporter": "python",
   "pygments_lexer": "ipython3",
   "version": "3.8.3"
  },
  "orig_nbformat": 4,
  "vscode": {
   "interpreter": {
    "hash": "79f4febd97eb596df57e5deed901a3105e44e910b50a5558245ab468f39a7a83"
   }
  }
 },
 "nbformat": 4,
 "nbformat_minor": 2
}
