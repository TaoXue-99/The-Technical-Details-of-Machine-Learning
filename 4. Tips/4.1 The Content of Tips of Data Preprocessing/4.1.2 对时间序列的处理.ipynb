{
 "cells": [
  {
   "cell_type": "code",
   "execution_count": 10,
   "metadata": {},
   "outputs": [],
   "source": [
    "import imp\n",
    "import time  \n",
    "import random\n",
    "import datetime  \n",
    "import pandas as pd  "
   ]
  },
  {
   "cell_type": "code",
   "execution_count": 5,
   "metadata": {},
   "outputs": [
    {
     "name": "stdout",
     "output_type": "stream",
     "text": [
      "2022-08-03\n",
      "2022-02-18\n",
      "2022-08-15\n",
      "2022-04-27\n",
      "2022-02-05\n",
      "2022-06-10\n",
      "2022-04-24\n",
      "2022-05-19\n",
      "2022-07-18\n",
      "2022-05-19\n"
     ]
    },
    {
     "data": {
      "text/plain": [
       "['2022-08-03',\n",
       " '2022-02-18',\n",
       " '2022-08-15',\n",
       " '2022-04-27',\n",
       " '2022-02-05',\n",
       " '2022-06-10',\n",
       " '2022-04-24',\n",
       " '2022-05-19',\n",
       " '2022-07-18',\n",
       " '2022-05-19']"
      ]
     },
     "execution_count": 5,
     "metadata": {},
     "output_type": "execute_result"
    }
   ],
   "source": [
    "# 随机生成某时间段之间的日期\n",
    "call_date=[]\n",
    "a1=(2022,1,1,0,0,0,0,0,0)       #设置开始日期时间元组（1976-01-01 00：00：00）\n",
    "a2=(2022,10,2,23,59,59,0,0,0)  #设置结束日期时间元组（1990-12-31 23：59：59）\n",
    "start=time.mktime(a1)  #生成开始时间戳\n",
    "end=time.mktime(a2)   #生成结束时间戳\n",
    "#随机生成10个日期字符串\n",
    "for i in range(10):\n",
    "  t=random.randint(start,end)  #在开始和结束时间戳中随机取出一个\n",
    "  date_touple=time.localtime(t)     #将时间戳生成时间元组\n",
    "  date=time.strftime(\"%Y-%m-%d\",date_touple) #将时间元组转成格式化字符串（1976-05-21）\n",
    "  call_date.append(date)\n",
    "  print(date)\n",
    "call_date \n"
   ]
  },
  {
   "cell_type": "code",
   "execution_count": 6,
   "metadata": {},
   "outputs": [
    {
     "name": "stdout",
     "output_type": "stream",
     "text": [
      "20210926\n",
      "20210702\n",
      "20210721\n",
      "20210424\n",
      "20210423\n",
      "20210116\n",
      "20210716\n",
      "20210614\n",
      "20210601\n",
      "20210824\n"
     ]
    },
    {
     "data": {
      "text/plain": [
       "['20210926',\n",
       " '20210702',\n",
       " '20210721',\n",
       " '20210424',\n",
       " '20210423',\n",
       " '20210116',\n",
       " '20210716',\n",
       " '20210614',\n",
       " '20210601',\n",
       " '20210824']"
      ]
     },
     "execution_count": 6,
     "metadata": {},
     "output_type": "execute_result"
    }
   ],
   "source": [
    "# 随机生成某时间段之间的日期\n",
    "join_date=[]\n",
    "a1=(2021,1,1,0,0,0,0,0,0)       #设置开始日期时间元组（1976-01-01 00：00：00）\n",
    "a2=(2021,10,2,23,59,59,0,0,0)  #设置结束日期时间元组（1990-12-31 23：59：59）\n",
    "start=time.mktime(a1)  #生成开始时间戳\n",
    "end=time.mktime(a2)   #生成结束时间戳\n",
    "#随机生成10个日期字符串\n",
    "for i in range(10):\n",
    "  t=random.randint(start,end)  #在开始和结束时间戳中随机取出一个\n",
    "  date_touple=time.localtime(t)     #将时间戳生成时间元组\n",
    "  date=time.strftime(\"%Y%m%d\",date_touple) #将时间元组转成格式化字符串（1976-05-21）\n",
    "  join_date.append(date)\n",
    "  print(date)\n",
    "join_date\n"
   ]
  },
  {
   "cell_type": "code",
   "execution_count": 15,
   "metadata": {},
   "outputs": [
    {
     "data": {
      "text/html": [
       "<div>\n",
       "<style scoped>\n",
       "    .dataframe tbody tr th:only-of-type {\n",
       "        vertical-align: middle;\n",
       "    }\n",
       "\n",
       "    .dataframe tbody tr th {\n",
       "        vertical-align: top;\n",
       "    }\n",
       "\n",
       "    .dataframe thead th {\n",
       "        text-align: right;\n",
       "    }\n",
       "</style>\n",
       "<table border=\"1\" class=\"dataframe\">\n",
       "  <thead>\n",
       "    <tr style=\"text-align: right;\">\n",
       "      <th></th>\n",
       "      <th>join_date</th>\n",
       "      <th>call_date</th>\n",
       "      <th>today</th>\n",
       "    </tr>\n",
       "  </thead>\n",
       "  <tbody>\n",
       "    <tr>\n",
       "      <th>0</th>\n",
       "      <td>20210926</td>\n",
       "      <td>2022-08-03</td>\n",
       "      <td>2022-10-04 20:39:59.841094</td>\n",
       "    </tr>\n",
       "    <tr>\n",
       "      <th>1</th>\n",
       "      <td>20210702</td>\n",
       "      <td>2022-02-18</td>\n",
       "      <td>2022-10-04 20:39:59.841094</td>\n",
       "    </tr>\n",
       "    <tr>\n",
       "      <th>2</th>\n",
       "      <td>20210721</td>\n",
       "      <td>2022-08-15</td>\n",
       "      <td>2022-10-04 20:39:59.841094</td>\n",
       "    </tr>\n",
       "    <tr>\n",
       "      <th>3</th>\n",
       "      <td>20210424</td>\n",
       "      <td>2022-04-27</td>\n",
       "      <td>2022-10-04 20:39:59.841094</td>\n",
       "    </tr>\n",
       "    <tr>\n",
       "      <th>4</th>\n",
       "      <td>20210423</td>\n",
       "      <td>2022-02-05</td>\n",
       "      <td>2022-10-04 20:39:59.841094</td>\n",
       "    </tr>\n",
       "    <tr>\n",
       "      <th>5</th>\n",
       "      <td>20210116</td>\n",
       "      <td>2022-06-10</td>\n",
       "      <td>2022-10-04 20:39:59.841094</td>\n",
       "    </tr>\n",
       "    <tr>\n",
       "      <th>6</th>\n",
       "      <td>20210716</td>\n",
       "      <td>2022-04-24</td>\n",
       "      <td>2022-10-04 20:39:59.841094</td>\n",
       "    </tr>\n",
       "    <tr>\n",
       "      <th>7</th>\n",
       "      <td>20210614</td>\n",
       "      <td>2022-05-19</td>\n",
       "      <td>2022-10-04 20:39:59.841094</td>\n",
       "    </tr>\n",
       "    <tr>\n",
       "      <th>8</th>\n",
       "      <td>20210601</td>\n",
       "      <td>2022-07-18</td>\n",
       "      <td>2022-10-04 20:39:59.841094</td>\n",
       "    </tr>\n",
       "    <tr>\n",
       "      <th>9</th>\n",
       "      <td>20210824</td>\n",
       "      <td>2022-05-19</td>\n",
       "      <td>2022-10-04 20:39:59.841094</td>\n",
       "    </tr>\n",
       "  </tbody>\n",
       "</table>\n",
       "</div>"
      ],
      "text/plain": [
       "  join_date   call_date                      today\n",
       "0  20210926  2022-08-03 2022-10-04 20:39:59.841094\n",
       "1  20210702  2022-02-18 2022-10-04 20:39:59.841094\n",
       "2  20210721  2022-08-15 2022-10-04 20:39:59.841094\n",
       "3  20210424  2022-04-27 2022-10-04 20:39:59.841094\n",
       "4  20210423  2022-02-05 2022-10-04 20:39:59.841094\n",
       "5  20210116  2022-06-10 2022-10-04 20:39:59.841094\n",
       "6  20210716  2022-04-24 2022-10-04 20:39:59.841094\n",
       "7  20210614  2022-05-19 2022-10-04 20:39:59.841094\n",
       "8  20210601  2022-07-18 2022-10-04 20:39:59.841094\n",
       "9  20210824  2022-05-19 2022-10-04 20:39:59.841094"
      ]
     },
     "execution_count": 15,
     "metadata": {},
     "output_type": "execute_result"
    }
   ],
   "source": [
    "df=pd.DataFrame({\n",
    "    'join_date':join_date,\n",
    "    'call_date':call_date,\n",
    "    'today':[datetime.datetime.today() for i in range(10)]\n",
    "})\n",
    "df"
   ]
  },
  {
   "cell_type": "code",
   "execution_count": null,
   "metadata": {},
   "outputs": [],
   "source": []
  }
 ],
 "metadata": {
  "kernelspec": {
   "display_name": "Python 3.8.3 ('base')",
   "language": "python",
   "name": "python3"
  },
  "language_info": {
   "codemirror_mode": {
    "name": "ipython",
    "version": 3
   },
   "file_extension": ".py",
   "mimetype": "text/x-python",
   "name": "python",
   "nbconvert_exporter": "python",
   "pygments_lexer": "ipython3",
   "version": "3.8.3"
  },
  "orig_nbformat": 4,
  "vscode": {
   "interpreter": {
    "hash": "79f4febd97eb596df57e5deed901a3105e44e910b50a5558245ab468f39a7a83"
   }
  }
 },
 "nbformat": 4,
 "nbformat_minor": 2
}
